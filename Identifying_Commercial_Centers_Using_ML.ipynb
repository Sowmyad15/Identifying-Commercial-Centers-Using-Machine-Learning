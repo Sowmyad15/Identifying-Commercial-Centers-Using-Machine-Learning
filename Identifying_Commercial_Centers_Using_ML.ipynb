{
  "cells": [
    {
      "cell_type": "markdown",
      "source": [
        "# INSTALL THE LIBRARIES"
      ],
      "metadata": {
        "id": "w1IdNDrXiDa6"
      }
    },
    {
      "cell_type": "code",
      "execution_count": null,
      "metadata": {
        "colab": {
          "base_uri": "https://localhost:8080/"
        },
        "id": "9z5Nl9RyYIsC",
        "outputId": "a5c98e32-703a-4eba-f6f2-86c513a43e3a"
      },
      "outputs": [
        {
          "name": "stdout",
          "output_type": "stream",
          "text": [
            "Looking in indexes: https://pypi.org/simple, https://us-python.pkg.dev/colab-wheels/public/simple/\n",
            "Requirement already satisfied: overpy in /usr/local/lib/python3.7/dist-packages (0.6)\n"
          ]
        }
      ],
      "source": [
        "!pip install overpy"
      ]
    },
    {
      "cell_type": "code",
      "execution_count": null,
      "metadata": {
        "colab": {
          "base_uri": "https://localhost:8080/"
        },
        "id": "IVwR5GVDYMdB",
        "outputId": "1be4f4a5-2e04-44ec-db99-b350ce119d1c"
      },
      "outputs": [
        {
          "name": "stdout",
          "output_type": "stream",
          "text": [
            "Looking in indexes: https://pypi.org/simple, https://us-python.pkg.dev/colab-wheels/public/simple/\n",
            "Requirement already satisfied: folium in /usr/local/lib/python3.7/dist-packages (0.12.1.post1)\n",
            "Requirement already satisfied: requests in /usr/local/lib/python3.7/dist-packages (from folium) (2.23.0)\n",
            "Requirement already satisfied: jinja2>=2.9 in /usr/local/lib/python3.7/dist-packages (from folium) (2.11.3)\n",
            "Requirement already satisfied: branca>=0.3.0 in /usr/local/lib/python3.7/dist-packages (from folium) (0.5.0)\n",
            "Requirement already satisfied: numpy in /usr/local/lib/python3.7/dist-packages (from folium) (1.21.6)\n",
            "Requirement already satisfied: MarkupSafe>=0.23 in /usr/local/lib/python3.7/dist-packages (from jinja2>=2.9->folium) (2.0.1)\n",
            "Requirement already satisfied: urllib3!=1.25.0,!=1.25.1,<1.26,>=1.21.1 in /usr/local/lib/python3.7/dist-packages (from requests->folium) (1.24.3)\n",
            "Requirement already satisfied: idna<3,>=2.5 in /usr/local/lib/python3.7/dist-packages (from requests->folium) (2.10)\n",
            "Requirement already satisfied: chardet<4,>=3.0.2 in /usr/local/lib/python3.7/dist-packages (from requests->folium) (3.0.4)\n",
            "Requirement already satisfied: certifi>=2017.4.17 in /usr/local/lib/python3.7/dist-packages (from requests->folium) (2022.9.24)\n"
          ]
        }
      ],
      "source": [
        "!pip install folium"
      ]
    },
    {
      "cell_type": "code",
      "execution_count": null,
      "metadata": {
        "colab": {
          "base_uri": "https://localhost:8080/"
        },
        "id": "J3dnELmQlNWg",
        "outputId": "df2645f8-d91b-40a5-ec05-755d3e40a349"
      },
      "outputs": [
        {
          "name": "stdout",
          "output_type": "stream",
          "text": [
            "Looking in indexes: https://pypi.org/simple, https://us-python.pkg.dev/colab-wheels/public/simple/\n",
            "Collecting scikit-learn-extra\n",
            "  Downloading scikit_learn_extra-0.2.0-cp37-cp37m-manylinux2010_x86_64.whl (1.7 MB)\n",
            "\u001b[K     |████████████████████████████████| 1.7 MB 5.3 MB/s \n",
            "\u001b[?25hRequirement already satisfied: numpy>=1.13.3 in /usr/local/lib/python3.7/dist-packages (from scikit-learn-extra) (1.21.6)\n",
            "Requirement already satisfied: scikit-learn>=0.23.0 in /usr/local/lib/python3.7/dist-packages (from scikit-learn-extra) (1.0.2)\n",
            "Requirement already satisfied: scipy>=0.19.1 in /usr/local/lib/python3.7/dist-packages (from scikit-learn-extra) (1.7.3)\n",
            "Requirement already satisfied: joblib>=0.11 in /usr/local/lib/python3.7/dist-packages (from scikit-learn>=0.23.0->scikit-learn-extra) (1.2.0)\n",
            "Requirement already satisfied: threadpoolctl>=2.0.0 in /usr/local/lib/python3.7/dist-packages (from scikit-learn>=0.23.0->scikit-learn-extra) (3.1.0)\n",
            "Installing collected packages: scikit-learn-extra\n",
            "Successfully installed scikit-learn-extra-0.2.0\n"
          ]
        }
      ],
      "source": [
        "!pip install scikit-learn-extra"
      ]
    },
    {
      "cell_type": "markdown",
      "source": [
        "# Import the libraries"
      ],
      "metadata": {
        "id": "2Whme51NiOMh"
      }
    },
    {
      "cell_type": "code",
      "execution_count": null,
      "metadata": {
        "id": "MUqoGO3FX_gK"
      },
      "outputs": [],
      "source": [
        "import pandas as pd\n",
        "import folium\n",
        "import overpy\n",
        "from sklearn.cluster import *\n",
        "from sklearn import metrics\n",
        "import numpy as np"
      ]
    },
    {
      "cell_type": "markdown",
      "source": [
        "# Overpass API Query to fetch city\n",
        "\n",
        "\n"
      ],
      "metadata": {
        "id": "PCDipcYHiTuu"
      }
    },
    {
      "cell_type": "code",
      "execution_count": null,
      "metadata": {
        "colab": {
          "background_save": true
        },
        "id": "V9qYeHYOX_gW"
      },
      "outputs": [],
      "source": [
        "api = overpy.Overpass()\n",
        "result = api.query(\"\"\"[out:json];\n",
        "    area[name=\"Vancouver\"][boundary=administrative]->.searchArea;\n",
        "    (node[\"amenity\"](area.searchArea);\n",
        "     way[\"amenity\"](area.searchArea);\n",
        "     relation[\"amenity\"](area.searchArea);\n",
        "    );\n",
        "    out center;\n",
        "    \"\"\")"
      ]
    },
    {
      "cell_type": "markdown",
      "source": [
        "# Convert to Dataframe and Remove Unnecessary Amenities"
      ],
      "metadata": {
        "id": "Bl5a7ToJizex"
      }
    },
    {
      "cell_type": "code",
      "execution_count": null,
      "metadata": {
        "colab": {
          "background_save": true
        },
        "id": "Vwop608CX_gY"
      },
      "outputs": [],
      "source": [
        "tags = []\n",
        "for i in result.nodes:\n",
        "    if len(i.tags) is not 0:\n",
        "        i_tags = i.tags\n",
        "        i_tags['node_id'] = i.id\n",
        "        i_tags['lat'] = float(i.lat)\n",
        "        i_tags['lon'] = float(i.lon)\n",
        "        tags.append(i.tags)\n",
        "df = pd.DataFrame(tags)\n",
        "len(df)"
      ]
    },
    {
      "cell_type": "code",
      "execution_count": null,
      "metadata": {
        "colab": {
          "background_save": true
        },
        "id": "95q_SmswX_gY",
        "outputId": "5aa4c78a-31f5-47fd-be13-122fc49cbc16"
      },
      "outputs": [
        {
          "name": "stdout",
          "output_type": "stream",
          "text": [
            "(4964, 361)\n"
          ]
        },
        {
          "data": {
            "text/html": [
              "\n",
              "  <div id=\"df-0487394c-92ef-4dc7-ac20-4bd7e9de4bb8\">\n",
              "    <div class=\"colab-df-container\">\n",
              "      <div>\n",
              "<style scoped>\n",
              "    .dataframe tbody tr th:only-of-type {\n",
              "        vertical-align: middle;\n",
              "    }\n",
              "\n",
              "    .dataframe tbody tr th {\n",
              "        vertical-align: top;\n",
              "    }\n",
              "\n",
              "    .dataframe thead th {\n",
              "        text-align: right;\n",
              "    }\n",
              "</style>\n",
              "<table border=\"1\" class=\"dataframe\">\n",
              "  <thead>\n",
              "    <tr style=\"text-align: right;\">\n",
              "      <th></th>\n",
              "      <th>addr:housenumber</th>\n",
              "      <th>addr:street</th>\n",
              "      <th>amenity</th>\n",
              "      <th>name</th>\n",
              "      <th>opening_hours</th>\n",
              "      <th>operator</th>\n",
              "      <th>operator:wikidata</th>\n",
              "      <th>operator:wikipedia</th>\n",
              "      <th>website</th>\n",
              "      <th>node_id</th>\n",
              "      <th>...</th>\n",
              "      <th>level:ref</th>\n",
              "      <th>maxheight:signed</th>\n",
              "      <th>addr:floor</th>\n",
              "      <th>building</th>\n",
              "      <th>note:address_buildingnumber</th>\n",
              "      <th>tower:type</th>\n",
              "      <th>payment:insurance</th>\n",
              "      <th>payment:venmo</th>\n",
              "      <th>source:maxheight</th>\n",
              "      <th>ref:gbfs</th>\n",
              "    </tr>\n",
              "  </thead>\n",
              "  <tbody>\n",
              "    <tr>\n",
              "      <th>0</th>\n",
              "      <td>1950</td>\n",
              "      <td>Argyle Drive</td>\n",
              "      <td>library</td>\n",
              "      <td>VPL Fraserview Branch</td>\n",
              "      <td>Tu,We 10:00-21:00; Th-Sa 10:00-18:00; Su 13:00...</td>\n",
              "      <td>Vancouver Public Library</td>\n",
              "      <td>Q1376408</td>\n",
              "      <td>en:Vancouver Public Library</td>\n",
              "      <td>https://www.vpl.ca/location/fraser-branch</td>\n",
              "      <td>249407303</td>\n",
              "      <td>...</td>\n",
              "      <td>NaN</td>\n",
              "      <td>NaN</td>\n",
              "      <td>NaN</td>\n",
              "      <td>NaN</td>\n",
              "      <td>NaN</td>\n",
              "      <td>NaN</td>\n",
              "      <td>NaN</td>\n",
              "      <td>NaN</td>\n",
              "      <td>NaN</td>\n",
              "      <td>NaN</td>\n",
              "    </tr>\n",
              "    <tr>\n",
              "      <th>1</th>\n",
              "      <td>1396</td>\n",
              "      <td>East 41st Avenue</td>\n",
              "      <td>fuel</td>\n",
              "      <td>Shell</td>\n",
              "      <td>NaN</td>\n",
              "      <td>Shell</td>\n",
              "      <td>NaN</td>\n",
              "      <td>NaN</td>\n",
              "      <td>NaN</td>\n",
              "      <td>255435370</td>\n",
              "      <td>...</td>\n",
              "      <td>NaN</td>\n",
              "      <td>NaN</td>\n",
              "      <td>NaN</td>\n",
              "      <td>NaN</td>\n",
              "      <td>NaN</td>\n",
              "      <td>NaN</td>\n",
              "      <td>NaN</td>\n",
              "      <td>NaN</td>\n",
              "      <td>NaN</td>\n",
              "      <td>NaN</td>\n",
              "    </tr>\n",
              "    <tr>\n",
              "      <th>2</th>\n",
              "      <td>300</td>\n",
              "      <td>Cambie Street</td>\n",
              "      <td>pub</td>\n",
              "      <td>The Cambie</td>\n",
              "      <td>NaN</td>\n",
              "      <td>NaN</td>\n",
              "      <td>NaN</td>\n",
              "      <td>NaN</td>\n",
              "      <td>NaN</td>\n",
              "      <td>286316995</td>\n",
              "      <td>...</td>\n",
              "      <td>NaN</td>\n",
              "      <td>NaN</td>\n",
              "      <td>NaN</td>\n",
              "      <td>NaN</td>\n",
              "      <td>NaN</td>\n",
              "      <td>NaN</td>\n",
              "      <td>NaN</td>\n",
              "      <td>NaN</td>\n",
              "      <td>NaN</td>\n",
              "      <td>NaN</td>\n",
              "    </tr>\n",
              "    <tr>\n",
              "      <th>3</th>\n",
              "      <td>NaN</td>\n",
              "      <td>NaN</td>\n",
              "      <td>toilets</td>\n",
              "      <td>NaN</td>\n",
              "      <td>dawn-dusk</td>\n",
              "      <td>NaN</td>\n",
              "      <td>NaN</td>\n",
              "      <td>NaN</td>\n",
              "      <td>NaN</td>\n",
              "      <td>289809375</td>\n",
              "      <td>...</td>\n",
              "      <td>NaN</td>\n",
              "      <td>NaN</td>\n",
              "      <td>NaN</td>\n",
              "      <td>NaN</td>\n",
              "      <td>NaN</td>\n",
              "      <td>NaN</td>\n",
              "      <td>NaN</td>\n",
              "      <td>NaN</td>\n",
              "      <td>NaN</td>\n",
              "      <td>NaN</td>\n",
              "    </tr>\n",
              "    <tr>\n",
              "      <th>4</th>\n",
              "      <td>2398</td>\n",
              "      <td>East 1st Avenue</td>\n",
              "      <td>fuel</td>\n",
              "      <td>Petro-Canada</td>\n",
              "      <td>Mo-Fr 06:30-23:00; Sa-Su 07:00-23:00</td>\n",
              "      <td>Petro-Canada</td>\n",
              "      <td>NaN</td>\n",
              "      <td>NaN</td>\n",
              "      <td>NaN</td>\n",
              "      <td>291466861</td>\n",
              "      <td>...</td>\n",
              "      <td>NaN</td>\n",
              "      <td>NaN</td>\n",
              "      <td>NaN</td>\n",
              "      <td>NaN</td>\n",
              "      <td>NaN</td>\n",
              "      <td>NaN</td>\n",
              "      <td>NaN</td>\n",
              "      <td>NaN</td>\n",
              "      <td>NaN</td>\n",
              "      <td>NaN</td>\n",
              "    </tr>\n",
              "  </tbody>\n",
              "</table>\n",
              "<p>5 rows × 361 columns</p>\n",
              "</div>\n",
              "      <button class=\"colab-df-convert\" onclick=\"convertToInteractive('df-0487394c-92ef-4dc7-ac20-4bd7e9de4bb8')\"\n",
              "              title=\"Convert this dataframe to an interactive table.\"\n",
              "              style=\"display:none;\">\n",
              "        \n",
              "  <svg xmlns=\"http://www.w3.org/2000/svg\" height=\"24px\"viewBox=\"0 0 24 24\"\n",
              "       width=\"24px\">\n",
              "    <path d=\"M0 0h24v24H0V0z\" fill=\"none\"/>\n",
              "    <path d=\"M18.56 5.44l.94 2.06.94-2.06 2.06-.94-2.06-.94-.94-2.06-.94 2.06-2.06.94zm-11 1L8.5 8.5l.94-2.06 2.06-.94-2.06-.94L8.5 2.5l-.94 2.06-2.06.94zm10 10l.94 2.06.94-2.06 2.06-.94-2.06-.94-.94-2.06-.94 2.06-2.06.94z\"/><path d=\"M17.41 7.96l-1.37-1.37c-.4-.4-.92-.59-1.43-.59-.52 0-1.04.2-1.43.59L10.3 9.45l-7.72 7.72c-.78.78-.78 2.05 0 2.83L4 21.41c.39.39.9.59 1.41.59.51 0 1.02-.2 1.41-.59l7.78-7.78 2.81-2.81c.8-.78.8-2.07 0-2.86zM5.41 20L4 18.59l7.72-7.72 1.47 1.35L5.41 20z\"/>\n",
              "  </svg>\n",
              "      </button>\n",
              "      \n",
              "  <style>\n",
              "    .colab-df-container {\n",
              "      display:flex;\n",
              "      flex-wrap:wrap;\n",
              "      gap: 12px;\n",
              "    }\n",
              "\n",
              "    .colab-df-convert {\n",
              "      background-color: #E8F0FE;\n",
              "      border: none;\n",
              "      border-radius: 50%;\n",
              "      cursor: pointer;\n",
              "      display: none;\n",
              "      fill: #1967D2;\n",
              "      height: 32px;\n",
              "      padding: 0 0 0 0;\n",
              "      width: 32px;\n",
              "    }\n",
              "\n",
              "    .colab-df-convert:hover {\n",
              "      background-color: #E2EBFA;\n",
              "      box-shadow: 0px 1px 2px rgba(60, 64, 67, 0.3), 0px 1px 3px 1px rgba(60, 64, 67, 0.15);\n",
              "      fill: #174EA6;\n",
              "    }\n",
              "\n",
              "    [theme=dark] .colab-df-convert {\n",
              "      background-color: #3B4455;\n",
              "      fill: #D2E3FC;\n",
              "    }\n",
              "\n",
              "    [theme=dark] .colab-df-convert:hover {\n",
              "      background-color: #434B5C;\n",
              "      box-shadow: 0px 1px 3px 1px rgba(0, 0, 0, 0.15);\n",
              "      filter: drop-shadow(0px 1px 2px rgba(0, 0, 0, 0.3));\n",
              "      fill: #FFFFFF;\n",
              "    }\n",
              "  </style>\n",
              "\n",
              "      <script>\n",
              "        const buttonEl =\n",
              "          document.querySelector('#df-0487394c-92ef-4dc7-ac20-4bd7e9de4bb8 button.colab-df-convert');\n",
              "        buttonEl.style.display =\n",
              "          google.colab.kernel.accessAllowed ? 'block' : 'none';\n",
              "\n",
              "        async function convertToInteractive(key) {\n",
              "          const element = document.querySelector('#df-0487394c-92ef-4dc7-ac20-4bd7e9de4bb8');\n",
              "          const dataTable =\n",
              "            await google.colab.kernel.invokeFunction('convertToInteractive',\n",
              "                                                     [key], {});\n",
              "          if (!dataTable) return;\n",
              "\n",
              "          const docLinkHtml = 'Like what you see? Visit the ' +\n",
              "            '<a target=\"_blank\" href=https://colab.research.google.com/notebooks/data_table.ipynb>data table notebook</a>'\n",
              "            + ' to learn more about interactive tables.';\n",
              "          element.innerHTML = '';\n",
              "          dataTable['output_type'] = 'display_data';\n",
              "          await google.colab.output.renderOutput(dataTable, element);\n",
              "          const docLink = document.createElement('div');\n",
              "          docLink.innerHTML = docLinkHtml;\n",
              "          element.appendChild(docLink);\n",
              "        }\n",
              "      </script>\n",
              "    </div>\n",
              "  </div>\n",
              "  "
            ],
            "text/plain": [
              "  addr:housenumber       addr:street  amenity                   name  \\\n",
              "0             1950      Argyle Drive  library  VPL Fraserview Branch   \n",
              "1             1396  East 41st Avenue     fuel                  Shell   \n",
              "2              300     Cambie Street      pub             The Cambie   \n",
              "3              NaN               NaN  toilets                    NaN   \n",
              "4             2398   East 1st Avenue     fuel           Petro-Canada   \n",
              "\n",
              "                                       opening_hours  \\\n",
              "0  Tu,We 10:00-21:00; Th-Sa 10:00-18:00; Su 13:00...   \n",
              "1                                                NaN   \n",
              "2                                                NaN   \n",
              "3                                          dawn-dusk   \n",
              "4               Mo-Fr 06:30-23:00; Sa-Su 07:00-23:00   \n",
              "\n",
              "                   operator operator:wikidata           operator:wikipedia  \\\n",
              "0  Vancouver Public Library          Q1376408  en:Vancouver Public Library   \n",
              "1                     Shell               NaN                          NaN   \n",
              "2                       NaN               NaN                          NaN   \n",
              "3                       NaN               NaN                          NaN   \n",
              "4              Petro-Canada               NaN                          NaN   \n",
              "\n",
              "                                     website    node_id  ...  level:ref  \\\n",
              "0  https://www.vpl.ca/location/fraser-branch  249407303  ...        NaN   \n",
              "1                                        NaN  255435370  ...        NaN   \n",
              "2                                        NaN  286316995  ...        NaN   \n",
              "3                                        NaN  289809375  ...        NaN   \n",
              "4                                        NaN  291466861  ...        NaN   \n",
              "\n",
              "   maxheight:signed addr:floor building note:address_buildingnumber  \\\n",
              "0               NaN        NaN      NaN                         NaN   \n",
              "1               NaN        NaN      NaN                         NaN   \n",
              "2               NaN        NaN      NaN                         NaN   \n",
              "3               NaN        NaN      NaN                         NaN   \n",
              "4               NaN        NaN      NaN                         NaN   \n",
              "\n",
              "  tower:type payment:insurance payment:venmo source:maxheight ref:gbfs  \n",
              "0        NaN               NaN           NaN              NaN      NaN  \n",
              "1        NaN               NaN           NaN              NaN      NaN  \n",
              "2        NaN               NaN           NaN              NaN      NaN  \n",
              "3        NaN               NaN           NaN              NaN      NaN  \n",
              "4        NaN               NaN           NaN              NaN      NaN  \n",
              "\n",
              "[5 rows x 361 columns]"
            ]
          },
          "execution_count": 353,
          "metadata": {},
          "output_type": "execute_result"
        }
      ],
      "source": [
        "remove_amenity =  [\n",
        "    'arts_centre',\n",
        "    \"Ayurvedic Hospital\",\n",
        "    \"baby_hatch\",\n",
        "    \"bench\",\n",
        "    \"bicycle_parking\",\n",
        "    \"bicycle_rental\",\n",
        "    \"bicycle_repair_station\",\n",
        "    \"bureau_de_change\",\n",
        "    \"car_rental\",\n",
        "    \"car_wash\",\n",
        "    \"charging_station\",\n",
        "    \"fountain\",\n",
        "    \"grave_yard\",\n",
        "    \"House\",\n",
        "    \"language_school\",\n",
        "    \"meditation_centre\",\n",
        "    \"motorcycle_parking\",\n",
        "    \"orphanage\",\n",
        "    \"payment_terminal\",\n",
        "    \"photo_booth\",\n",
        "    \"post_depot\",\n",
        "    \"recycling\",\n",
        "    \"shelter\",\n",
        "    \"social_centre\",\n",
        "    \"social_facility\",\n",
        "    \"telephone\",\n",
        "    \"training\",\n",
        "    \"tuition\",\n",
        "    \"vending_machine\",\n",
        "    \"veterinary\",\n",
        "    \"waste_basket\",\n",
        "    \"waste_disposal\",\n",
        "    \"waste_transfer_station\",\n",
        "    \"water_point\",\n",
        "    \"weighbridge\",\n",
        "]\n",
        "for val in remove_amenity:\n",
        "    df = df[df.amenity != val]\n",
        "\n",
        "print(df.shape)\n",
        "df.head()"
      ]
    },
    {
      "cell_type": "markdown",
      "source": [
        "# Converting lat and lon to numpy"
      ],
      "metadata": {
        "id": "l7swbEbHjE8j"
      }
    },
    {
      "cell_type": "code",
      "execution_count": null,
      "metadata": {
        "colab": {
          "background_save": true
        },
        "id": "Ju5HIBrmX_ga",
        "outputId": "9dd2a714-1fde-4b40-b5b4-490af22db028"
      },
      "outputs": [
        {
          "data": {
            "text/plain": [
              "array([[  49.2196414, -123.0668448],\n",
              "       [  49.2324294, -123.0774537],\n",
              "       [  49.2831924, -123.1090499],\n",
              "       ...,\n",
              "       [  49.2114385, -123.1024948],\n",
              "       [  49.2636185, -123.1250807],\n",
              "       [  49.27911  , -123.119003 ]])"
            ]
          },
          "execution_count": 354,
          "metadata": {},
          "output_type": "execute_result"
        }
      ],
      "source": [
        "coords=df[['lat','lon']].to_numpy()\n",
        "coords"
      ]
    },
    {
      "cell_type": "markdown",
      "metadata": {
        "id": "DQWOBLKvcep9"
      },
      "source": [
        "# DBSCAN for outlier removal"
      ]
    },
    {
      "cell_type": "code",
      "execution_count": null,
      "metadata": {
        "colab": {
          "background_save": true
        },
        "id": "T6G4cbnVX_gd",
        "outputId": "64601765-0518-4cdf-e1ed-aa9aa7f9b190"
      },
      "outputs": [
        {
          "name": "stdout",
          "output_type": "stream",
          "text": [
            "Silhouette Coefficient: 0.034\n"
          ]
        }
      ],
      "source": [
        "kms_per_radian = 6371.0088\n",
        "epsilon = 0.5/kms_per_radian\n",
        "dbsc = DBSCAN(eps=epsilon,min_samples=10, algorithm='ball_tree', metric='haversine')\n",
        "y_dbsc=dbsc.fit(np.radians(coords))\n",
        "cluster_labels = dbsc.labels_\n",
        "num_clusters = len(set(cluster_labels))\n",
        "print(num_clusters)"
      ]
    },
    {
      "cell_type": "code",
      "execution_count": null,
      "metadata": {
        "colab": {
          "background_save": true
        },
        "id": "pToKuq66X_gf"
      },
      "outputs": [],
      "source": [
        "clusters = pd.Series([ coords[ cluster_labels == n ] for n in range (num_clusters) ])\n",
        "core_samples = np.zeros_like(cluster_labels, dtype='bool')\n",
        "core_samples[dbsc.core_sample_indices_] = True\n",
        "np.unique(core_samples, return_counts=True)"
      ]
    },
    {
      "cell_type": "code",
      "execution_count": null,
      "metadata": {
        "colab": {
          "background_save": true
        },
        "id": "JJ0on5wHX_gi",
        "outputId": "86c97323-f029-43c9-88c3-cee4128d4f4d"
      },
      "outputs": [
        {
          "data": {
            "text/plain": [
              "((4489, 2), (4964, 2))"
            ]
          },
          "execution_count": 360,
          "metadata": {},
          "output_type": "execute_result"
        }
      ],
      "source": [
        "s = pd.Series(core_samples, name='bools')\n",
        "data = df[['lat', 'lon']]\n",
        "data[s.values].shape, data.shape"
      ]
    },
    {
      "cell_type": "markdown",
      "metadata": {
        "id": "YsYfRiP0X_gi"
      },
      "source": [
        "# Dataframe after removal of outliers"
      ]
    },
    {
      "cell_type": "code",
      "execution_count": null,
      "metadata": {
        "colab": {
          "background_save": true
        },
        "id": "K0z5rjPOX_gj",
        "outputId": "f8e79ca4-6ba6-40f8-af29-e725344ff9a3"
      },
      "outputs": [
        {
          "name": "stdout",
          "output_type": "stream",
          "text": [
            "(4489, 361)\n"
          ]
        },
        {
          "data": {
            "text/html": [
              "\n",
              "  <div id=\"df-ec520a2d-aac7-449f-a716-603ac7a67f3f\">\n",
              "    <div class=\"colab-df-container\">\n",
              "      <div>\n",
              "<style scoped>\n",
              "    .dataframe tbody tr th:only-of-type {\n",
              "        vertical-align: middle;\n",
              "    }\n",
              "\n",
              "    .dataframe tbody tr th {\n",
              "        vertical-align: top;\n",
              "    }\n",
              "\n",
              "    .dataframe thead th {\n",
              "        text-align: right;\n",
              "    }\n",
              "</style>\n",
              "<table border=\"1\" class=\"dataframe\">\n",
              "  <thead>\n",
              "    <tr style=\"text-align: right;\">\n",
              "      <th></th>\n",
              "      <th>addr:housenumber</th>\n",
              "      <th>addr:street</th>\n",
              "      <th>amenity</th>\n",
              "      <th>name</th>\n",
              "      <th>opening_hours</th>\n",
              "      <th>operator</th>\n",
              "      <th>operator:wikidata</th>\n",
              "      <th>operator:wikipedia</th>\n",
              "      <th>website</th>\n",
              "      <th>node_id</th>\n",
              "      <th>...</th>\n",
              "      <th>level:ref</th>\n",
              "      <th>maxheight:signed</th>\n",
              "      <th>addr:floor</th>\n",
              "      <th>building</th>\n",
              "      <th>note:address_buildingnumber</th>\n",
              "      <th>tower:type</th>\n",
              "      <th>payment:insurance</th>\n",
              "      <th>payment:venmo</th>\n",
              "      <th>source:maxheight</th>\n",
              "      <th>ref:gbfs</th>\n",
              "    </tr>\n",
              "  </thead>\n",
              "  <tbody>\n",
              "    <tr>\n",
              "      <th>0</th>\n",
              "      <td>1950</td>\n",
              "      <td>Argyle Drive</td>\n",
              "      <td>library</td>\n",
              "      <td>VPL Fraserview Branch</td>\n",
              "      <td>Tu,We 10:00-21:00; Th-Sa 10:00-18:00; Su 13:00...</td>\n",
              "      <td>Vancouver Public Library</td>\n",
              "      <td>Q1376408</td>\n",
              "      <td>en:Vancouver Public Library</td>\n",
              "      <td>https://www.vpl.ca/location/fraser-branch</td>\n",
              "      <td>249407303</td>\n",
              "      <td>...</td>\n",
              "      <td>NaN</td>\n",
              "      <td>NaN</td>\n",
              "      <td>NaN</td>\n",
              "      <td>NaN</td>\n",
              "      <td>NaN</td>\n",
              "      <td>NaN</td>\n",
              "      <td>NaN</td>\n",
              "      <td>NaN</td>\n",
              "      <td>NaN</td>\n",
              "      <td>NaN</td>\n",
              "    </tr>\n",
              "    <tr>\n",
              "      <th>2</th>\n",
              "      <td>300</td>\n",
              "      <td>Cambie Street</td>\n",
              "      <td>pub</td>\n",
              "      <td>The Cambie</td>\n",
              "      <td>NaN</td>\n",
              "      <td>NaN</td>\n",
              "      <td>NaN</td>\n",
              "      <td>NaN</td>\n",
              "      <td>NaN</td>\n",
              "      <td>286316995</td>\n",
              "      <td>...</td>\n",
              "      <td>NaN</td>\n",
              "      <td>NaN</td>\n",
              "      <td>NaN</td>\n",
              "      <td>NaN</td>\n",
              "      <td>NaN</td>\n",
              "      <td>NaN</td>\n",
              "      <td>NaN</td>\n",
              "      <td>NaN</td>\n",
              "      <td>NaN</td>\n",
              "      <td>NaN</td>\n",
              "    </tr>\n",
              "    <tr>\n",
              "      <th>3</th>\n",
              "      <td>NaN</td>\n",
              "      <td>NaN</td>\n",
              "      <td>toilets</td>\n",
              "      <td>NaN</td>\n",
              "      <td>dawn-dusk</td>\n",
              "      <td>NaN</td>\n",
              "      <td>NaN</td>\n",
              "      <td>NaN</td>\n",
              "      <td>NaN</td>\n",
              "      <td>289809375</td>\n",
              "      <td>...</td>\n",
              "      <td>NaN</td>\n",
              "      <td>NaN</td>\n",
              "      <td>NaN</td>\n",
              "      <td>NaN</td>\n",
              "      <td>NaN</td>\n",
              "      <td>NaN</td>\n",
              "      <td>NaN</td>\n",
              "      <td>NaN</td>\n",
              "      <td>NaN</td>\n",
              "      <td>NaN</td>\n",
              "    </tr>\n",
              "    <tr>\n",
              "      <th>4</th>\n",
              "      <td>2398</td>\n",
              "      <td>East 1st Avenue</td>\n",
              "      <td>fuel</td>\n",
              "      <td>Petro-Canada</td>\n",
              "      <td>Mo-Fr 06:30-23:00; Sa-Su 07:00-23:00</td>\n",
              "      <td>Petro-Canada</td>\n",
              "      <td>NaN</td>\n",
              "      <td>NaN</td>\n",
              "      <td>NaN</td>\n",
              "      <td>291466861</td>\n",
              "      <td>...</td>\n",
              "      <td>NaN</td>\n",
              "      <td>NaN</td>\n",
              "      <td>NaN</td>\n",
              "      <td>NaN</td>\n",
              "      <td>NaN</td>\n",
              "      <td>NaN</td>\n",
              "      <td>NaN</td>\n",
              "      <td>NaN</td>\n",
              "      <td>NaN</td>\n",
              "      <td>NaN</td>\n",
              "    </tr>\n",
              "    <tr>\n",
              "      <th>5</th>\n",
              "      <td>NaN</td>\n",
              "      <td>NaN</td>\n",
              "      <td>fuel</td>\n",
              "      <td>Chevron</td>\n",
              "      <td>NaN</td>\n",
              "      <td>Chevron</td>\n",
              "      <td>NaN</td>\n",
              "      <td>NaN</td>\n",
              "      <td>NaN</td>\n",
              "      <td>291466862</td>\n",
              "      <td>...</td>\n",
              "      <td>NaN</td>\n",
              "      <td>NaN</td>\n",
              "      <td>NaN</td>\n",
              "      <td>NaN</td>\n",
              "      <td>NaN</td>\n",
              "      <td>NaN</td>\n",
              "      <td>NaN</td>\n",
              "      <td>NaN</td>\n",
              "      <td>NaN</td>\n",
              "      <td>NaN</td>\n",
              "    </tr>\n",
              "  </tbody>\n",
              "</table>\n",
              "<p>5 rows × 361 columns</p>\n",
              "</div>\n",
              "      <button class=\"colab-df-convert\" onclick=\"convertToInteractive('df-ec520a2d-aac7-449f-a716-603ac7a67f3f')\"\n",
              "              title=\"Convert this dataframe to an interactive table.\"\n",
              "              style=\"display:none;\">\n",
              "        \n",
              "  <svg xmlns=\"http://www.w3.org/2000/svg\" height=\"24px\"viewBox=\"0 0 24 24\"\n",
              "       width=\"24px\">\n",
              "    <path d=\"M0 0h24v24H0V0z\" fill=\"none\"/>\n",
              "    <path d=\"M18.56 5.44l.94 2.06.94-2.06 2.06-.94-2.06-.94-.94-2.06-.94 2.06-2.06.94zm-11 1L8.5 8.5l.94-2.06 2.06-.94-2.06-.94L8.5 2.5l-.94 2.06-2.06.94zm10 10l.94 2.06.94-2.06 2.06-.94-2.06-.94-.94-2.06-.94 2.06-2.06.94z\"/><path d=\"M17.41 7.96l-1.37-1.37c-.4-.4-.92-.59-1.43-.59-.52 0-1.04.2-1.43.59L10.3 9.45l-7.72 7.72c-.78.78-.78 2.05 0 2.83L4 21.41c.39.39.9.59 1.41.59.51 0 1.02-.2 1.41-.59l7.78-7.78 2.81-2.81c.8-.78.8-2.07 0-2.86zM5.41 20L4 18.59l7.72-7.72 1.47 1.35L5.41 20z\"/>\n",
              "  </svg>\n",
              "      </button>\n",
              "      \n",
              "  <style>\n",
              "    .colab-df-container {\n",
              "      display:flex;\n",
              "      flex-wrap:wrap;\n",
              "      gap: 12px;\n",
              "    }\n",
              "\n",
              "    .colab-df-convert {\n",
              "      background-color: #E8F0FE;\n",
              "      border: none;\n",
              "      border-radius: 50%;\n",
              "      cursor: pointer;\n",
              "      display: none;\n",
              "      fill: #1967D2;\n",
              "      height: 32px;\n",
              "      padding: 0 0 0 0;\n",
              "      width: 32px;\n",
              "    }\n",
              "\n",
              "    .colab-df-convert:hover {\n",
              "      background-color: #E2EBFA;\n",
              "      box-shadow: 0px 1px 2px rgba(60, 64, 67, 0.3), 0px 1px 3px 1px rgba(60, 64, 67, 0.15);\n",
              "      fill: #174EA6;\n",
              "    }\n",
              "\n",
              "    [theme=dark] .colab-df-convert {\n",
              "      background-color: #3B4455;\n",
              "      fill: #D2E3FC;\n",
              "    }\n",
              "\n",
              "    [theme=dark] .colab-df-convert:hover {\n",
              "      background-color: #434B5C;\n",
              "      box-shadow: 0px 1px 3px 1px rgba(0, 0, 0, 0.15);\n",
              "      filter: drop-shadow(0px 1px 2px rgba(0, 0, 0, 0.3));\n",
              "      fill: #FFFFFF;\n",
              "    }\n",
              "  </style>\n",
              "\n",
              "      <script>\n",
              "        const buttonEl =\n",
              "          document.querySelector('#df-ec520a2d-aac7-449f-a716-603ac7a67f3f button.colab-df-convert');\n",
              "        buttonEl.style.display =\n",
              "          google.colab.kernel.accessAllowed ? 'block' : 'none';\n",
              "\n",
              "        async function convertToInteractive(key) {\n",
              "          const element = document.querySelector('#df-ec520a2d-aac7-449f-a716-603ac7a67f3f');\n",
              "          const dataTable =\n",
              "            await google.colab.kernel.invokeFunction('convertToInteractive',\n",
              "                                                     [key], {});\n",
              "          if (!dataTable) return;\n",
              "\n",
              "          const docLinkHtml = 'Like what you see? Visit the ' +\n",
              "            '<a target=\"_blank\" href=https://colab.research.google.com/notebooks/data_table.ipynb>data table notebook</a>'\n",
              "            + ' to learn more about interactive tables.';\n",
              "          element.innerHTML = '';\n",
              "          dataTable['output_type'] = 'display_data';\n",
              "          await google.colab.output.renderOutput(dataTable, element);\n",
              "          const docLink = document.createElement('div');\n",
              "          docLink.innerHTML = docLinkHtml;\n",
              "          element.appendChild(docLink);\n",
              "        }\n",
              "      </script>\n",
              "    </div>\n",
              "  </div>\n",
              "  "
            ],
            "text/plain": [
              "  addr:housenumber      addr:street  amenity                   name  \\\n",
              "0             1950     Argyle Drive  library  VPL Fraserview Branch   \n",
              "2              300    Cambie Street      pub             The Cambie   \n",
              "3              NaN              NaN  toilets                    NaN   \n",
              "4             2398  East 1st Avenue     fuel           Petro-Canada   \n",
              "5              NaN              NaN     fuel                Chevron   \n",
              "\n",
              "                                       opening_hours  \\\n",
              "0  Tu,We 10:00-21:00; Th-Sa 10:00-18:00; Su 13:00...   \n",
              "2                                                NaN   \n",
              "3                                          dawn-dusk   \n",
              "4               Mo-Fr 06:30-23:00; Sa-Su 07:00-23:00   \n",
              "5                                                NaN   \n",
              "\n",
              "                   operator operator:wikidata           operator:wikipedia  \\\n",
              "0  Vancouver Public Library          Q1376408  en:Vancouver Public Library   \n",
              "2                       NaN               NaN                          NaN   \n",
              "3                       NaN               NaN                          NaN   \n",
              "4              Petro-Canada               NaN                          NaN   \n",
              "5                   Chevron               NaN                          NaN   \n",
              "\n",
              "                                     website    node_id  ...  level:ref  \\\n",
              "0  https://www.vpl.ca/location/fraser-branch  249407303  ...        NaN   \n",
              "2                                        NaN  286316995  ...        NaN   \n",
              "3                                        NaN  289809375  ...        NaN   \n",
              "4                                        NaN  291466861  ...        NaN   \n",
              "5                                        NaN  291466862  ...        NaN   \n",
              "\n",
              "   maxheight:signed addr:floor building note:address_buildingnumber  \\\n",
              "0               NaN        NaN      NaN                         NaN   \n",
              "2               NaN        NaN      NaN                         NaN   \n",
              "3               NaN        NaN      NaN                         NaN   \n",
              "4               NaN        NaN      NaN                         NaN   \n",
              "5               NaN        NaN      NaN                         NaN   \n",
              "\n",
              "  tower:type payment:insurance payment:venmo source:maxheight ref:gbfs  \n",
              "0        NaN               NaN           NaN              NaN      NaN  \n",
              "2        NaN               NaN           NaN              NaN      NaN  \n",
              "3        NaN               NaN           NaN              NaN      NaN  \n",
              "4        NaN               NaN           NaN              NaN      NaN  \n",
              "5        NaN               NaN           NaN              NaN      NaN  \n",
              "\n",
              "[5 rows x 361 columns]"
            ]
          },
          "execution_count": 361,
          "metadata": {},
          "output_type": "execute_result"
        }
      ],
      "source": [
        "data_amenities=df.copy()\n",
        "df_amenities = data_amenities[s.values]\n",
        "print(df_amenities.shape)\n",
        "df_amenities.head()"
      ]
    },
    {
      "cell_type": "code",
      "execution_count": null,
      "metadata": {
        "colab": {
          "background_save": true
        },
        "id": "tldIN_OdX_gk"
      },
      "outputs": [],
      "source": [
        "df01=df_amenities[['lat','lon']]\n",
        "coords1=df_amenities[['lat','lon']].to_numpy()"
      ]
    },
    {
      "cell_type": "markdown",
      "source": [
        "# KMeans with random initialization"
      ],
      "metadata": {
        "id": "DTSC4JDap8AF"
      }
    },
    {
      "cell_type": "code",
      "execution_count": null,
      "metadata": {
        "colab": {
          "background_save": true
        },
        "id": "UXvsRu2_fPrC",
        "outputId": "3523466b-bf6c-44ca-d16a-39df96007f10"
      },
      "outputs": [
        {
          "name": "stdout",
          "output_type": "stream",
          "text": [
            "263\n",
            "Silhouette Coefficient: 0.435\n"
          ]
        }
      ],
      "source": [
        "kmeans = KMeans(num_clusters, init = 'random', random_state = 42)\n",
        "y_kmeans = kmeans.fit_predict(np.radians(coords1))\n",
        "kmean_labels = kmeans.labels_\n",
        "k_clusters = len(set(kmean_labels))\n",
        "print(k_clusters)\n",
        "print(\"Silhouette Coefficient: %0.3f\" % metrics.silhouette_score(np.radians(coords1), kmean_labels, metric='haversine'))\n"
      ]
    },
    {
      "cell_type": "markdown",
      "source": [
        "# KMeans++"
      ],
      "metadata": {
        "id": "89wvXCdEqEPY"
      }
    },
    {
      "cell_type": "code",
      "execution_count": null,
      "metadata": {
        "colab": {
          "background_save": true
        },
        "id": "2qqvcGB9X_gk",
        "outputId": "04fe0299-c076-4c6c-bd8b-274847cf862b"
      },
      "outputs": [
        {
          "name": "stdout",
          "output_type": "stream",
          "text": [
            "27\n",
            "Silhouette Coefficient: 0.422\n"
          ]
        }
      ],
      "source": [
        "\n",
        "kmeans = KMeans(num_clusters, init = 'k-means++', random_state = 42)\n",
        "y_kmeans = kmeans.fit_predict(np.radians(coords1))\n",
        "kmean_labels = kmeans.labels_\n",
        "k_clusters = len(set(kmean_labels))\n",
        "print(k_clusters)\n",
        "print(\"Silhouette Coefficient: %0.3f\" % metrics.silhouette_score(np.radians(coords1), kmean_labels, metric='haversine'))\n"
      ]
    },
    {
      "cell_type": "markdown",
      "metadata": {
        "id": "krZ0ZDdllpCf"
      },
      "source": [
        "\n",
        "# K-Mediods\n",
        "\n"
      ]
    },
    {
      "cell_type": "code",
      "execution_count": null,
      "metadata": {
        "colab": {
          "background_save": true
        },
        "id": "kRvlzkW1iVou",
        "outputId": "e152141a-f978-46ff-abca-7412631b86aa"
      },
      "outputs": [
        {
          "name": "stdout",
          "output_type": "stream",
          "text": [
            "27\n",
            "Silhouette Coefficient: 0.318\n"
          ]
        }
      ],
      "source": [
        "from sklearn_extra.cluster import KMedoids\n",
        "kmedoids = KMedoids(num_clusters, random_state=0).fit(np.radians(coords1))\n",
        "kmed_labels=kmedoids.labels_\n",
        "kmed_clusters = len(set(kmed_labels))\n",
        "print(kmed_clusters)\n",
        "print(\"Silhouette Coefficient: %0.3f\" % metrics.silhouette_score(np.radians(coords1), kmed_labels, metric='haversine'))"
      ]
    },
    {
      "cell_type": "markdown",
      "source": [
        "# OPTICS"
      ],
      "metadata": {
        "id": "CLM9g8hAqSEl"
      }
    },
    {
      "cell_type": "code",
      "execution_count": null,
      "metadata": {
        "colab": {
          "background_save": true
        },
        "id": "nHZHhb-0l2Td",
        "outputId": "f7165b22-a78a-445d-d3b4-7438789b37b5"
      },
      "outputs": [
        {
          "name": "stdout",
          "output_type": "stream",
          "text": [
            "130\n",
            "Silhouette Coefficient: -0.092\n"
          ]
        }
      ],
      "source": [
        "opt=OPTICS(min_samples=10,metric=\"haversine\",cluster_method='xi')\n",
        "y_opt=opt.fit(np.radians(coords1))\n",
        "optcluster_labels = opt.labels_\n",
        "print(len(set(optcluster_labels)))\n",
        "print(\"Silhouette Coefficient: %0.3f\" % metrics.silhouette_score(np.radians(coords1), optcluster_labels, metric='haversine'))"
      ]
    },
    {
      "cell_type": "markdown",
      "source": [
        "# DBSCAN"
      ],
      "metadata": {
        "id": "hGkqZYmXqWWp"
      }
    },
    {
      "cell_type": "code",
      "execution_count": null,
      "metadata": {
        "id": "TiE3kZ_vnryC"
      },
      "outputs": [],
      "source": [
        "dbsc = DBSCAN(eps=epsilon,min_samples=10, algorithm='ball_tree', metric='haversine')\n",
        "y_dbsc=dbsc.fit(np.radians(coords1))\n",
        "cluster_labels = dbsc.labels_\n",
        "print(len(set(cluster_labels)))\n",
        "print(\"Silhouette Coefficient: %0.3f\" % metrics.silhouette_score(coords1, cluster_labels, metric='haversine'))"
      ]
    }
  ],
  "metadata": {
    "colab": {
      "provenance": []
    },
    "kernelspec": {
      "display_name": "Python 3.10.4 ('env1')",
      "language": "python",
      "name": "python3"
    },
    "language_info": {
      "codemirror_mode": {
        "name": "ipython",
        "version": 3
      },
      "file_extension": ".py",
      "mimetype": "text/x-python",
      "name": "python",
      "nbconvert_exporter": "python",
      "pygments_lexer": "ipython3",
      "version": "3.10.4"
    },
    "vscode": {
      "interpreter": {
        "hash": "3a6d7edb86dfac3fbce523c68cad4c0669867c60376f9f1dc653b469aaf39f76"
      }
    }
  },
  "nbformat": 4,
  "nbformat_minor": 0
}